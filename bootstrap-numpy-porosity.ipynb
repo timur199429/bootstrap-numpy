{
 "cells": [
  {
   "cell_type": "markdown",
   "metadata": {},
   "source": [
    "bootstrap - sampling with replacement"
   ]
  },
  {
   "cell_type": "code",
   "execution_count": 1,
   "metadata": {},
   "outputs": [],
   "source": [
    "import numpy as np"
   ]
  },
  {
   "cell_type": "code",
   "execution_count": null,
   "metadata": {},
   "outputs": [],
   "source": [
    "import matplotlib.pyplot as plt\n",
    "plt.style.use('dark_background')"
   ]
  },
  {
   "cell_type": "code",
   "execution_count": 2,
   "metadata": {},
   "outputs": [],
   "source": [
    "porosity = [29.3, 21.0, 19.2, 29.1, 21.9, 23.1]"
   ]
  },
  {
   "cell_type": "code",
   "execution_count": 58,
   "metadata": {},
   "outputs": [],
   "source": [
    "Nboot = 10000"
   ]
  },
  {
   "cell_type": "code",
   "execution_count": 43,
   "metadata": {},
   "outputs": [],
   "source": [
    "def bootstrap(x, Nboot, statfun):\n",
    "    '''Calculate bootstrap statistics for a sample x'''\n",
    "    resampled_stat = []\n",
    "    x = np.array(x)\n",
    "    for _ in range(Nboot):\n",
    "        index = np.random.randint(0,len(x),len(x))\n",
    "        sample = x[index]\n",
    "        bstatistic = statfun(sample)\n",
    "        resampled_stat.append(bstatistic)\n",
    "\n",
    "    return np.array(resampled_stat)"
   ]
  },
  {
   "cell_type": "code",
   "execution_count": 59,
   "metadata": {},
   "outputs": [],
   "source": [
    "porosity_bootstrap = bootstrap(porosity,Nboot,np.mean)"
   ]
  },
  {
   "cell_type": "code",
   "execution_count": 60,
   "metadata": {},
   "outputs": [
    {
     "data": {
      "text/plain": [
       "(array([   6.,   22.,   98.,  269.,  408.,  622., 1047.,  990., 1108.,\n",
       "        1362., 1029.,  901.,  861.,  441.,  368.,  271.,   47.,  129.,\n",
       "           0.,   21.]),\n",
       " array([19.2  , 19.705, 20.21 , 20.715, 21.22 , 21.725, 22.23 , 22.735,\n",
       "        23.24 , 23.745, 24.25 , 24.755, 25.26 , 25.765, 26.27 , 26.775,\n",
       "        27.28 , 27.785, 28.29 , 28.795, 29.3  ]),\n",
       " <BarContainer object of 20 artists>)"
      ]
     },
     "execution_count": 60,
     "metadata": {},
     "output_type": "execute_result"
    },
    {
     "data": {
      "image/png": "[encoded data removed]",
      "text/plain": [
       "<Figure size 640x480 with 1 Axes>"
      ]
     },
     "metadata": {},
     "output_type": "display_data"
    }
   ],
   "source": [
    "plt.hist(porosity_bootstrap)"
   ]
  },
  {
   "cell_type": "code",
   "execution_count": 61,
   "metadata": {},
   "outputs": [
    {
     "data": {
      "text/plain": [
       "23.933333333333334"
      ]
     },
     "execution_count": 61,
     "metadata": {},
     "output_type": "execute_result"
    }
   ],
   "source": [
    "np.mean(porosity)"
   ]
  },
  {
   "cell_type": "code",
   "execution_count": 62,
   "metadata": {},
   "outputs": [
    {
     "data": {
      "text/plain": [
       "23.93821"
      ]
     },
     "execution_count": 62,
     "metadata": {},
     "output_type": "execute_result"
    }
   ],
   "source": [
    "np.mean(porosity_bootstrap)"
   ]
  },
  {
   "cell_type": "code",
   "execution_count": 63,
   "metadata": {},
   "outputs": [
    {
     "data": {
      "text/plain": [
       "1.6015186183085381"
      ]
     },
     "execution_count": 63,
     "metadata": {},
     "output_type": "execute_result"
    }
   ],
   "source": [
    "np.std(porosity_bootstrap)"
   ]
  },
  {
   "cell_type": "code",
   "execution_count": null,
   "metadata": {},
   "outputs": [],
   "source": []
  }
 ],
 "metadata": {
  "kernelspec": {
   "display_name": "testi2",
   "language": "python",
   "name": "testi2"
  },
  "language_info": {
   "codemirror_mode": {
    "name": "ipython",
    "version": 3
   },
   "file_extension": ".py",
   "mimetype": "text/x-python",
   "name": "python",
   "nbconvert_exporter": "python",
   "pygments_lexer": "ipython3",
   "version": "3.11.4"
  }
 },
 "nbformat": 4,
 "nbformat_minor": 2
}
